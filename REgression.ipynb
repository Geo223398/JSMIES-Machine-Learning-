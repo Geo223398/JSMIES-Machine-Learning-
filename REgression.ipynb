{
 "cells": [
  {
   "cell_type": "markdown",
   "id": "725a36af",
   "metadata": {},
   "source": [
    "### Machine Learning - Linear Regression"
   ]
  },
  {
   "cell_type": "markdown",
   "id": "92ae5c99",
   "metadata": {},
   "source": [
    "#### Regression"
   ]
  },
  {
   "cell_type": "markdown",
   "id": "d99db43b",
   "metadata": {},
   "source": [
    "#### Simple Linear Regression"
   ]
  },
  {
   "cell_type": "code",
   "execution_count": 1,
   "id": "ca08ffb6",
   "metadata": {},
   "outputs": [],
   "source": [
    "A=[6,7,9,7,6,5,9,9,11,7,11,12,6,8]\n",
    "B=[90,92,95,97,94,120,100,88,86,89,99,93,94,98]"
   ]
  },
  {
   "cell_type": "code",
   "execution_count": 2,
   "id": "810a45af",
   "metadata": {},
   "outputs": [],
   "source": [
    "import seaborn as sns\n",
    "from scipy import stats\n",
    "import matplotlib.pyplot as plt\n",
    "import numpy as np"
   ]
  },
  {
   "cell_type": "code",
   "execution_count": 3,
   "id": "d6a310a9",
   "metadata": {},
   "outputs": [],
   "source": [
    "slope, intercept, r, p, std_error = stats.linregress(A, B)"
   ]
  },
  {
   "cell_type": "code",
   "execution_count": 4,
   "id": "b835c44a",
   "metadata": {},
   "outputs": [],
   "source": [
    "def myfunc(A):\n",
    "    return slope*A+intercept"
   ]
  },
  {
   "cell_type": "code",
   "execution_count": 5,
   "id": "80259f38",
   "metadata": {},
   "outputs": [
    {
     "data": {
      "text/plain": [
       "[98.05509964830011,\n",
       " 96.75263774912075,\n",
       " 94.14771395076201,\n",
       " 96.75263774912075,\n",
       " 98.05509964830011,\n",
       " 99.35756154747949,\n",
       " 94.14771395076201,\n",
       " 94.14771395076201,\n",
       " 91.54279015240328,\n",
       " 96.75263774912075,\n",
       " 91.54279015240328,\n",
       " 90.24032825322392,\n",
       " 98.05509964830011,\n",
       " 95.45017584994139]"
      ]
     },
     "execution_count": 5,
     "metadata": {},
     "output_type": "execute_result"
    }
   ],
   "source": [
    "mymodel=list(map(myfunc,A))\n",
    "mymodel"
   ]
  },
  {
   "cell_type": "code",
   "execution_count": 6,
   "id": "1fca6ca4",
   "metadata": {},
   "outputs": [
    {
     "data": {
      "image/png": "[encoded data removed]",
      "text/plain": [
       "<Figure size 640x480 with 1 Axes>"
      ]
     },
     "metadata": {},
     "output_type": "display_data"
    }
   ],
   "source": [
    "plt.scatter(A,B)\n",
    "plt.plot(A,mymodel)\n",
    "plt.show()"
   ]
  },
  {
   "cell_type": "code",
   "execution_count": 7,
   "id": "4ee293de",
   "metadata": {},
   "outputs": [
    {
     "data": {
      "text/plain": [
       "-0.3420916572798159"
      ]
     },
     "execution_count": 7,
     "metadata": {},
     "output_type": "execute_result"
    }
   ],
   "source": [
    "r"
   ]
  },
  {
   "cell_type": "code",
   "execution_count": 8,
   "id": "f20dcc44",
   "metadata": {},
   "outputs": [
    {
     "data": {
      "text/plain": [
       "1.0327749769386332"
      ]
     },
     "execution_count": 8,
     "metadata": {},
     "output_type": "execute_result"
    }
   ],
   "source": [
    "std_error"
   ]
  },
  {
   "cell_type": "code",
   "execution_count": 9,
   "id": "d362cace",
   "metadata": {},
   "outputs": [
    {
     "data": {
      "text/plain": [
       "0.2312292858447231"
      ]
     },
     "execution_count": 9,
     "metadata": {},
     "output_type": "execute_result"
    }
   ],
   "source": [
    "p"
   ]
  },
  {
   "cell_type": "code",
   "execution_count": 10,
   "id": "6098dbbf",
   "metadata": {},
   "outputs": [
    {
     "data": {
      "text/plain": [
       "92.84525205158265"
      ]
     },
     "execution_count": 10,
     "metadata": {},
     "output_type": "execute_result"
    }
   ],
   "source": [
    "speed= myfunc(10)\n",
    "speed"
   ]
  },
  {
   "cell_type": "markdown",
   "id": "870a0e1f",
   "metadata": {},
   "source": [
    "### Excercise1"
   ]
  },
  {
   "cell_type": "code",
   "execution_count": 11,
   "id": "7ab7b3ce",
   "metadata": {},
   "outputs": [],
   "source": [
    "from pydataset import data"
   ]
  },
  {
   "cell_type": "code",
   "execution_count": 12,
   "id": "0b0ede90",
   "metadata": {},
   "outputs": [
    {
     "data": {
      "text/html": [
       "<div>\n",
       "<style scoped>\n",
       "    .dataframe tbody tr th:only-of-type {\n",
       "        vertical-align: middle;\n",
       "    }\n",
       "\n",
       "    .dataframe tbody tr th {\n",
       "        vertical-align: top;\n",
       "    }\n",
       "\n",
       "    .dataframe thead th {\n",
       "        text-align: right;\n",
       "    }\n",
       "</style>\n",
       "<table border=\"1\" class=\"dataframe\">\n",
       "  <thead>\n",
       "    <tr style=\"text-align: right;\">\n",
       "      <th></th>\n",
       "      <th>dataset_id</th>\n",
       "      <th>title</th>\n",
       "    </tr>\n",
       "  </thead>\n",
       "  <tbody>\n",
       "    <tr>\n",
       "      <th>0</th>\n",
       "      <td>AirPassengers</td>\n",
       "      <td>Monthly Airline Passenger Numbers 1949-1960</td>\n",
       "    </tr>\n",
       "    <tr>\n",
       "      <th>1</th>\n",
       "      <td>BJsales</td>\n",
       "      <td>Sales Data with Leading Indicator</td>\n",
       "    </tr>\n",
       "    <tr>\n",
       "      <th>2</th>\n",
       "      <td>BOD</td>\n",
       "      <td>Biochemical Oxygen Demand</td>\n",
       "    </tr>\n",
       "    <tr>\n",
       "      <th>3</th>\n",
       "      <td>Formaldehyde</td>\n",
       "      <td>Determination of Formaldehyde</td>\n",
       "    </tr>\n",
       "    <tr>\n",
       "      <th>4</th>\n",
       "      <td>HairEyeColor</td>\n",
       "      <td>Hair and Eye Color of Statistics Students</td>\n",
       "    </tr>\n",
       "    <tr>\n",
       "      <th>...</th>\n",
       "      <td>...</td>\n",
       "      <td>...</td>\n",
       "    </tr>\n",
       "    <tr>\n",
       "      <th>752</th>\n",
       "      <td>VerbAgg</td>\n",
       "      <td>Verbal Aggression item responses</td>\n",
       "    </tr>\n",
       "    <tr>\n",
       "      <th>753</th>\n",
       "      <td>cake</td>\n",
       "      <td>Breakage Angle of Chocolate Cakes</td>\n",
       "    </tr>\n",
       "    <tr>\n",
       "      <th>754</th>\n",
       "      <td>cbpp</td>\n",
       "      <td>Contagious bovine pleuropneumonia</td>\n",
       "    </tr>\n",
       "    <tr>\n",
       "      <th>755</th>\n",
       "      <td>grouseticks</td>\n",
       "      <td>Data on red grouse ticks from Elston et al. 2001</td>\n",
       "    </tr>\n",
       "    <tr>\n",
       "      <th>756</th>\n",
       "      <td>sleepstudy</td>\n",
       "      <td>Reaction times in a sleep deprivation study</td>\n",
       "    </tr>\n",
       "  </tbody>\n",
       "</table>\n",
       "<p>757 rows × 2 columns</p>\n",
       "</div>"
      ],
      "text/plain": [
       "        dataset_id                                             title\n",
       "0    AirPassengers       Monthly Airline Passenger Numbers 1949-1960\n",
       "1          BJsales                 Sales Data with Leading Indicator\n",
       "2              BOD                         Biochemical Oxygen Demand\n",
       "3     Formaldehyde                     Determination of Formaldehyde\n",
       "4     HairEyeColor         Hair and Eye Color of Statistics Students\n",
       "..             ...                                               ...\n",
       "752        VerbAgg                  Verbal Aggression item responses\n",
       "753           cake                 Breakage Angle of Chocolate Cakes\n",
       "754           cbpp                 Contagious bovine pleuropneumonia\n",
       "755    grouseticks  Data on red grouse ticks from Elston et al. 2001\n",
       "756     sleepstudy       Reaction times in a sleep deprivation study\n",
       "\n",
       "[757 rows x 2 columns]"
      ]
     },
     "execution_count": 12,
     "metadata": {},
     "output_type": "execute_result"
    }
   ],
   "source": [
    "data()"
   ]
  },
  {
   "cell_type": "markdown",
   "id": "7f31e168",
   "metadata": {},
   "source": [
    "#### Lets load bjsales data set"
   ]
  },
  {
   "cell_type": "code",
   "execution_count": 13,
   "id": "4938db39",
   "metadata": {},
   "outputs": [],
   "source": [
    "data1 = data('BJsales')"
   ]
  },
  {
   "cell_type": "code",
   "execution_count": 14,
   "id": "52f74a4a",
   "metadata": {},
   "outputs": [
    {
     "data": {
      "text/html": [
       "<div>\n",
       "<style scoped>\n",
       "    .dataframe tbody tr th:only-of-type {\n",
       "        vertical-align: middle;\n",
       "    }\n",
       "\n",
       "    .dataframe tbody tr th {\n",
       "        vertical-align: top;\n",
       "    }\n",
       "\n",
       "    .dataframe thead th {\n",
       "        text-align: right;\n",
       "    }\n",
       "</style>\n",
       "<table border=\"1\" class=\"dataframe\">\n",
       "  <thead>\n",
       "    <tr style=\"text-align: right;\">\n",
       "      <th></th>\n",
       "      <th>time</th>\n",
       "      <th>BJsales</th>\n",
       "    </tr>\n",
       "  </thead>\n",
       "  <tbody>\n",
       "    <tr>\n",
       "      <th>1</th>\n",
       "      <td>1</td>\n",
       "      <td>200.1</td>\n",
       "    </tr>\n",
       "    <tr>\n",
       "      <th>2</th>\n",
       "      <td>2</td>\n",
       "      <td>199.5</td>\n",
       "    </tr>\n",
       "    <tr>\n",
       "      <th>3</th>\n",
       "      <td>3</td>\n",
       "      <td>199.4</td>\n",
       "    </tr>\n",
       "    <tr>\n",
       "      <th>4</th>\n",
       "      <td>4</td>\n",
       "      <td>198.9</td>\n",
       "    </tr>\n",
       "    <tr>\n",
       "      <th>5</th>\n",
       "      <td>5</td>\n",
       "      <td>199.0</td>\n",
       "    </tr>\n",
       "  </tbody>\n",
       "</table>\n",
       "</div>"
      ],
      "text/plain": [
       "   time  BJsales\n",
       "1     1    200.1\n",
       "2     2    199.5\n",
       "3     3    199.4\n",
       "4     4    198.9\n",
       "5     5    199.0"
      ]
     },
     "execution_count": 14,
     "metadata": {},
     "output_type": "execute_result"
    }
   ],
   "source": [
    "data1.head()"
   ]
  },
  {
   "cell_type": "code",
   "execution_count": 15,
   "id": "afaf21c6",
   "metadata": {},
   "outputs": [],
   "source": [
    "x=data1['time'].values"
   ]
  },
  {
   "cell_type": "code",
   "execution_count": 16,
   "id": "c585cbaa",
   "metadata": {},
   "outputs": [],
   "source": [
    "y=data1['BJsales'].values"
   ]
  },
  {
   "cell_type": "code",
   "execution_count": 17,
   "id": "e6c3aa9e",
   "metadata": {},
   "outputs": [],
   "source": [
    "slope, intercept, r, p, std_error = stats.linregress(x,y)"
   ]
  },
  {
   "cell_type": "code",
   "execution_count": 18,
   "id": "59395250",
   "metadata": {},
   "outputs": [],
   "source": [
    "def line_slope(x):\n",
    "    return slope*x+intercept"
   ]
  },
  {
   "cell_type": "code",
   "execution_count": 19,
   "id": "85995878",
   "metadata": {},
   "outputs": [],
   "source": [
    "mymodel =list(map(line_slope,x))"
   ]
  },
  {
   "cell_type": "code",
   "execution_count": 20,
   "id": "873d3643",
   "metadata": {},
   "outputs": [
    {
     "data": {
      "text/plain": [
       "[196.67888741721853,\n",
       " 197.12585537134984,\n",
       " 197.57282332548112,\n",
       " 198.01979127961243,\n",
       " 198.46675923374372,\n",
       " 198.91372718787503,\n",
       " 199.3606951420063,\n",
       " 199.80766309613762,\n",
       " 200.2546310502689,\n",
       " 200.7015990044002,\n",
       " 201.1485669585315,\n",
       " 201.5955349126628,\n",
       " 202.04250286679408,\n",
       " 202.48947082092536,\n",
       " 202.93643877505667,\n",
       " 203.38340672918795,\n",
       " 203.83037468331926,\n",
       " 204.27734263745054,\n",
       " 204.72431059158185,\n",
       " 205.17127854571314,\n",
       " 205.61824649984445,\n",
       " 206.06521445397573,\n",
       " 206.51218240810704,\n",
       " 206.95915036223832,\n",
       " 207.40611831636963,\n",
       " 207.8530862705009,\n",
       " 208.30005422463222,\n",
       " 208.7470221787635,\n",
       " 209.19399013289478,\n",
       " 209.6409580870261,\n",
       " 210.08792604115737,\n",
       " 210.53489399528868,\n",
       " 210.98186194941997,\n",
       " 211.42882990355128,\n",
       " 211.87579785768256,\n",
       " 212.32276581181387,\n",
       " 212.76973376594515,\n",
       " 213.21670172007646,\n",
       " 213.66366967420774,\n",
       " 214.11063762833905,\n",
       " 214.55760558247033,\n",
       " 215.00457353660164,\n",
       " 215.45154149073292,\n",
       " 215.8985094448642,\n",
       " 216.3454773989955,\n",
       " 216.7924453531268,\n",
       " 217.2394133072581,\n",
       " 217.68638126138939,\n",
       " 218.1333492155207,\n",
       " 218.58031716965198,\n",
       " 219.0272851237833,\n",
       " 219.47425307791457,\n",
       " 219.92122103204588,\n",
       " 220.36818898617716,\n",
       " 220.81515694030847,\n",
       " 221.26212489443975,\n",
       " 221.70909284857106,\n",
       " 222.15606080270234,\n",
       " 222.60302875683362,\n",
       " 223.04999671096493,\n",
       " 223.49696466509621,\n",
       " 223.94393261922752,\n",
       " 224.3909005733588,\n",
       " 224.83786852749012,\n",
       " 225.2848364816214,\n",
       " 225.7318044357527,\n",
       " 226.178772389884,\n",
       " 226.6257403440153,\n",
       " 227.07270829814658,\n",
       " 227.51967625227786,\n",
       " 227.96664420640917,\n",
       " 228.41361216054048,\n",
       " 228.86058011467176,\n",
       " 229.30754806880304,\n",
       " 229.75451602293435,\n",
       " 230.20148397706564,\n",
       " 230.64845193119694,\n",
       " 231.09541988532823,\n",
       " 231.54238783945954,\n",
       " 231.98935579359082,\n",
       " 232.43632374772213,\n",
       " 232.8832917018534,\n",
       " 233.33025965598472,\n",
       " 233.777227610116,\n",
       " 234.22419556424728,\n",
       " 234.6711635183786,\n",
       " 235.1181314725099,\n",
       " 235.56509942664118,\n",
       " 236.01206738077246,\n",
       " 236.45903533490377,\n",
       " 236.90600328903506,\n",
       " 237.35297124316637,\n",
       " 237.79993919729765,\n",
       " 238.24690715142896,\n",
       " 238.69387510556024,\n",
       " 239.14084305969152,\n",
       " 239.58781101382283,\n",
       " 240.03477896795414,\n",
       " 240.48174692208542,\n",
       " 240.9287148762167,\n",
       " 241.375682830348,\n",
       " 241.82265078447932,\n",
       " 242.2696187386106,\n",
       " 242.71658669274188,\n",
       " 243.1635546468732,\n",
       " 243.61052260100448,\n",
       " 244.0574905551358,\n",
       " 244.50445850926707,\n",
       " 244.95142646339838,\n",
       " 245.39839441752966,\n",
       " 245.84536237166094,\n",
       " 246.29233032579225,\n",
       " 246.73929827992356,\n",
       " 247.18626623405484,\n",
       " 247.63323418818612,\n",
       " 248.08020214231743,\n",
       " 248.52717009644874,\n",
       " 248.97413805058002,\n",
       " 249.4211060047113,\n",
       " 249.86807395884261,\n",
       " 250.3150419129739,\n",
       " 250.7620098671052,\n",
       " 251.2089778212365,\n",
       " 251.6559457753678,\n",
       " 252.10291372949908,\n",
       " 252.54988168363036,\n",
       " 252.99684963776167,\n",
       " 253.44381759189298,\n",
       " 253.89078554602426,\n",
       " 254.33775350015554,\n",
       " 254.78472145428685,\n",
       " 255.23168940841813,\n",
       " 255.67865736254944,\n",
       " 256.1256253166807,\n",
       " 256.57259327081204,\n",
       " 257.01956122494335,\n",
       " 257.4665291790746,\n",
       " 257.9134971332059,\n",
       " 258.3604650873372,\n",
       " 258.80743304146847,\n",
       " 259.2544009955998,\n",
       " 259.7013689497311,\n",
       " 260.1483369038624,\n",
       " 260.5953048579937,\n",
       " 261.04227281212496,\n",
       " 261.4892407662563,\n",
       " 261.9362087203876,\n",
       " 262.38317667451884,\n",
       " 262.83014462865015,\n",
       " 263.27711258278146]"
      ]
     },
     "execution_count": 20,
     "metadata": {},
     "output_type": "execute_result"
    }
   ],
   "source": [
    "mymodel"
   ]
  },
  {
   "cell_type": "code",
   "execution_count": 21,
   "id": "adbd4b51",
   "metadata": {},
   "outputs": [
    {
     "data": {
      "image/png": "[encoded data removed]",
      "text/plain": [
       "<Figure size 640x480 with 1 Axes>"
      ]
     },
     "metadata": {},
     "output_type": "display_data"
    }
   ],
   "source": [
    "plt.scatter(x,y)\n",
    "plt.plot(x,mymodel)\n",
    "plt.show()"
   ]
  },
  {
   "cell_type": "code",
   "execution_count": 22,
   "id": "64a7a8ae",
   "metadata": {},
   "outputs": [
    {
     "data": {
      "text/plain": [
       "0.9040489498420919"
      ]
     },
     "execution_count": 22,
     "metadata": {},
     "output_type": "execute_result"
    }
   ],
   "source": [
    "r"
   ]
  },
  {
   "cell_type": "code",
   "execution_count": 23,
   "id": "6ce80cf4",
   "metadata": {},
   "outputs": [
    {
     "data": {
      "text/plain": [
       "1.6869378659450514e-56"
      ]
     },
     "execution_count": 23,
     "metadata": {},
     "output_type": "execute_result"
    }
   ],
   "source": [
    "p"
   ]
  },
  {
   "cell_type": "code",
   "execution_count": 24,
   "id": "e205744f",
   "metadata": {},
   "outputs": [
    {
     "data": {
      "text/plain": [
       "0.017370707365110552"
      ]
     },
     "execution_count": 24,
     "metadata": {},
     "output_type": "execute_result"
    }
   ],
   "source": [
    "std_error"
   ]
  },
  {
   "cell_type": "code",
   "execution_count": 25,
   "id": "4401e48c",
   "metadata": {},
   "outputs": [
    {
     "data": {
      "text/plain": [
       "223.04999671096493"
      ]
     },
     "execution_count": 25,
     "metadata": {},
     "output_type": "execute_result"
    }
   ],
   "source": [
    "bjsales_predict60=line_slope(60)\n",
    "bjsales_predict60"
   ]
  },
  {
   "cell_type": "markdown",
   "id": "38b361e1",
   "metadata": {},
   "source": [
    "#### Excercise2"
   ]
  },
  {
   "cell_type": "code",
   "execution_count": 26,
   "id": "c138e543",
   "metadata": {},
   "outputs": [
    {
     "data": {
      "text/html": [
       "<div>\n",
       "<style scoped>\n",
       "    .dataframe tbody tr th:only-of-type {\n",
       "        vertical-align: middle;\n",
       "    }\n",
       "\n",
       "    .dataframe tbody tr th {\n",
       "        vertical-align: top;\n",
       "    }\n",
       "\n",
       "    .dataframe thead th {\n",
       "        text-align: right;\n",
       "    }\n",
       "</style>\n",
       "<table border=\"1\" class=\"dataframe\">\n",
       "  <thead>\n",
       "    <tr style=\"text-align: right;\">\n",
       "      <th></th>\n",
       "      <th>carb</th>\n",
       "      <th>optden</th>\n",
       "    </tr>\n",
       "  </thead>\n",
       "  <tbody>\n",
       "    <tr>\n",
       "      <th>1</th>\n",
       "      <td>0.1</td>\n",
       "      <td>0.086</td>\n",
       "    </tr>\n",
       "    <tr>\n",
       "      <th>2</th>\n",
       "      <td>0.3</td>\n",
       "      <td>0.269</td>\n",
       "    </tr>\n",
       "    <tr>\n",
       "      <th>3</th>\n",
       "      <td>0.5</td>\n",
       "      <td>0.446</td>\n",
       "    </tr>\n",
       "    <tr>\n",
       "      <th>4</th>\n",
       "      <td>0.6</td>\n",
       "      <td>0.538</td>\n",
       "    </tr>\n",
       "    <tr>\n",
       "      <th>5</th>\n",
       "      <td>0.7</td>\n",
       "      <td>0.626</td>\n",
       "    </tr>\n",
       "    <tr>\n",
       "      <th>6</th>\n",
       "      <td>0.9</td>\n",
       "      <td>0.782</td>\n",
       "    </tr>\n",
       "  </tbody>\n",
       "</table>\n",
       "</div>"
      ],
      "text/plain": [
       "   carb  optden\n",
       "1   0.1   0.086\n",
       "2   0.3   0.269\n",
       "3   0.5   0.446\n",
       "4   0.6   0.538\n",
       "5   0.7   0.626\n",
       "6   0.9   0.782"
      ]
     },
     "execution_count": 26,
     "metadata": {},
     "output_type": "execute_result"
    }
   ],
   "source": [
    "data2=data('Formaldehyde')\n",
    "data2"
   ]
  },
  {
   "cell_type": "code",
   "execution_count": 27,
   "id": "ed8dca85",
   "metadata": {},
   "outputs": [],
   "source": [
    "carb=data2['carb'].values"
   ]
  },
  {
   "cell_type": "code",
   "execution_count": 28,
   "id": "9ec922c7",
   "metadata": {},
   "outputs": [],
   "source": [
    "optden=data2['optden'].values"
   ]
  },
  {
   "cell_type": "code",
   "execution_count": 29,
   "id": "7d8ce9a6",
   "metadata": {},
   "outputs": [],
   "source": [
    "slope,intercept,r,p,std_error=stats.linregress(carb,optden) "
   ]
  },
  {
   "cell_type": "code",
   "execution_count": 30,
   "id": "e84c3f83",
   "metadata": {},
   "outputs": [],
   "source": [
    "def slope_my(carb):\n",
    "    return slope*carb+intercept"
   ]
  },
  {
   "cell_type": "code",
   "execution_count": 31,
   "id": "d73977f5",
   "metadata": {},
   "outputs": [],
   "source": [
    "mymodel=list(map(slope_my,carb))"
   ]
  },
  {
   "cell_type": "code",
   "execution_count": 32,
   "id": "3b64a7ef",
   "metadata": {},
   "outputs": [
    {
     "data": {
      "text/plain": [
       "[0.09271428571428558,\n",
       " 0.26797142857142847,\n",
       " 0.44322857142857136,\n",
       " 0.5308571428571428,\n",
       " 0.6184857142857142,\n",
       " 0.7937428571428572]"
      ]
     },
     "execution_count": 32,
     "metadata": {},
     "output_type": "execute_result"
    }
   ],
   "source": [
    "mymodel"
   ]
  },
  {
   "cell_type": "code",
   "execution_count": 33,
   "id": "ab772d28",
   "metadata": {},
   "outputs": [
    {
     "data": {
      "image/png": "[encoded data removed]",
      "text/plain": [
       "<Figure size 640x480 with 1 Axes>"
      ]
     },
     "metadata": {},
     "output_type": "display_data"
    }
   ],
   "source": [
    "plt.scatter(carb,optden)\n",
    "plt.plot(optden,mymodel)\n",
    "plt.show()"
   ]
  },
  {
   "cell_type": "code",
   "execution_count": 34,
   "id": "c4a255d5",
   "metadata": {},
   "outputs": [
    {
     "data": {
      "text/plain": [
       "3.409192065426871e-07"
      ]
     },
     "execution_count": 34,
     "metadata": {},
     "output_type": "execute_result"
    }
   ],
   "source": [
    "p"
   ]
  },
  {
   "cell_type": "code",
   "execution_count": 35,
   "id": "6913ff66",
   "metadata": {},
   "outputs": [
    {
     "data": {
      "text/plain": [
       "0.9995232237450807"
      ]
     },
     "execution_count": 35,
     "metadata": {},
     "output_type": "execute_result"
    }
   ],
   "source": [
    "r"
   ]
  },
  {
   "cell_type": "code",
   "execution_count": 36,
   "id": "cd2d19f7",
   "metadata": {},
   "outputs": [
    {
     "data": {
      "text/plain": [
       "0.013534536322657264"
      ]
     },
     "execution_count": 36,
     "metadata": {},
     "output_type": "execute_result"
    }
   ],
   "source": [
    "std_error"
   ]
  },
  {
   "cell_type": "code",
   "execution_count": 37,
   "id": "00fc0393",
   "metadata": {},
   "outputs": [
    {
     "data": {
      "text/plain": [
       "0.3555999999999999"
      ]
     },
     "execution_count": 37,
     "metadata": {},
     "output_type": "execute_result"
    }
   ],
   "source": [
    "slope_my(0.4)"
   ]
  },
  {
   "cell_type": "markdown",
   "id": "d1d8c41c",
   "metadata": {},
   "source": [
    "### Excercise 3"
   ]
  },
  {
   "cell_type": "markdown",
   "id": "feb37990",
   "metadata": {},
   "source": [
    "### polynomial"
   ]
  },
  {
   "cell_type": "code",
   "execution_count": 38,
   "id": "8db430c7",
   "metadata": {},
   "outputs": [
    {
     "data": {
      "text/html": [
       "<div>\n",
       "<style scoped>\n",
       "    .dataframe tbody tr th:only-of-type {\n",
       "        vertical-align: middle;\n",
       "    }\n",
       "\n",
       "    .dataframe tbody tr th {\n",
       "        vertical-align: top;\n",
       "    }\n",
       "\n",
       "    .dataframe thead th {\n",
       "        text-align: right;\n",
       "    }\n",
       "</style>\n",
       "<table border=\"1\" class=\"dataframe\">\n",
       "  <thead>\n",
       "    <tr style=\"text-align: right;\">\n",
       "      <th></th>\n",
       "      <th>time</th>\n",
       "      <th>airmiles</th>\n",
       "    </tr>\n",
       "  </thead>\n",
       "  <tbody>\n",
       "    <tr>\n",
       "      <th>1</th>\n",
       "      <td>1937</td>\n",
       "      <td>412</td>\n",
       "    </tr>\n",
       "    <tr>\n",
       "      <th>2</th>\n",
       "      <td>1938</td>\n",
       "      <td>480</td>\n",
       "    </tr>\n",
       "    <tr>\n",
       "      <th>3</th>\n",
       "      <td>1939</td>\n",
       "      <td>683</td>\n",
       "    </tr>\n",
       "    <tr>\n",
       "      <th>4</th>\n",
       "      <td>1940</td>\n",
       "      <td>1052</td>\n",
       "    </tr>\n",
       "    <tr>\n",
       "      <th>5</th>\n",
       "      <td>1941</td>\n",
       "      <td>1385</td>\n",
       "    </tr>\n",
       "    <tr>\n",
       "      <th>6</th>\n",
       "      <td>1942</td>\n",
       "      <td>1418</td>\n",
       "    </tr>\n",
       "    <tr>\n",
       "      <th>7</th>\n",
       "      <td>1943</td>\n",
       "      <td>1634</td>\n",
       "    </tr>\n",
       "    <tr>\n",
       "      <th>8</th>\n",
       "      <td>1944</td>\n",
       "      <td>2178</td>\n",
       "    </tr>\n",
       "    <tr>\n",
       "      <th>9</th>\n",
       "      <td>1945</td>\n",
       "      <td>3362</td>\n",
       "    </tr>\n",
       "    <tr>\n",
       "      <th>10</th>\n",
       "      <td>1946</td>\n",
       "      <td>5948</td>\n",
       "    </tr>\n",
       "    <tr>\n",
       "      <th>11</th>\n",
       "      <td>1947</td>\n",
       "      <td>6109</td>\n",
       "    </tr>\n",
       "    <tr>\n",
       "      <th>12</th>\n",
       "      <td>1948</td>\n",
       "      <td>5981</td>\n",
       "    </tr>\n",
       "    <tr>\n",
       "      <th>13</th>\n",
       "      <td>1949</td>\n",
       "      <td>6753</td>\n",
       "    </tr>\n",
       "    <tr>\n",
       "      <th>14</th>\n",
       "      <td>1950</td>\n",
       "      <td>8003</td>\n",
       "    </tr>\n",
       "    <tr>\n",
       "      <th>15</th>\n",
       "      <td>1951</td>\n",
       "      <td>10566</td>\n",
       "    </tr>\n",
       "    <tr>\n",
       "      <th>16</th>\n",
       "      <td>1952</td>\n",
       "      <td>12528</td>\n",
       "    </tr>\n",
       "    <tr>\n",
       "      <th>17</th>\n",
       "      <td>1953</td>\n",
       "      <td>14760</td>\n",
       "    </tr>\n",
       "    <tr>\n",
       "      <th>18</th>\n",
       "      <td>1954</td>\n",
       "      <td>16769</td>\n",
       "    </tr>\n",
       "    <tr>\n",
       "      <th>19</th>\n",
       "      <td>1955</td>\n",
       "      <td>19819</td>\n",
       "    </tr>\n",
       "    <tr>\n",
       "      <th>20</th>\n",
       "      <td>1956</td>\n",
       "      <td>22362</td>\n",
       "    </tr>\n",
       "    <tr>\n",
       "      <th>21</th>\n",
       "      <td>1957</td>\n",
       "      <td>25340</td>\n",
       "    </tr>\n",
       "    <tr>\n",
       "      <th>22</th>\n",
       "      <td>1958</td>\n",
       "      <td>25343</td>\n",
       "    </tr>\n",
       "    <tr>\n",
       "      <th>23</th>\n",
       "      <td>1959</td>\n",
       "      <td>29269</td>\n",
       "    </tr>\n",
       "    <tr>\n",
       "      <th>24</th>\n",
       "      <td>1960</td>\n",
       "      <td>30514</td>\n",
       "    </tr>\n",
       "  </tbody>\n",
       "</table>\n",
       "</div>"
      ],
      "text/plain": [
       "    time  airmiles\n",
       "1   1937       412\n",
       "2   1938       480\n",
       "3   1939       683\n",
       "4   1940      1052\n",
       "5   1941      1385\n",
       "6   1942      1418\n",
       "7   1943      1634\n",
       "8   1944      2178\n",
       "9   1945      3362\n",
       "10  1946      5948\n",
       "11  1947      6109\n",
       "12  1948      5981\n",
       "13  1949      6753\n",
       "14  1950      8003\n",
       "15  1951     10566\n",
       "16  1952     12528\n",
       "17  1953     14760\n",
       "18  1954     16769\n",
       "19  1955     19819\n",
       "20  1956     22362\n",
       "21  1957     25340\n",
       "22  1958     25343\n",
       "23  1959     29269\n",
       "24  1960     30514"
      ]
     },
     "execution_count": 38,
     "metadata": {},
     "output_type": "execute_result"
    }
   ],
   "source": [
    "data4=data('airmiles')\n",
    "data4"
   ]
  },
  {
   "cell_type": "code",
   "execution_count": 39,
   "id": "c6368590",
   "metadata": {},
   "outputs": [],
   "source": [
    "time=data4['time'].value_counts()"
   ]
  },
  {
   "cell_type": "code",
   "execution_count": 40,
   "id": "f3f8d18c",
   "metadata": {},
   "outputs": [],
   "source": [
    "airmiles=data4['airmiles'].value_counts()"
   ]
  },
  {
   "cell_type": "code",
   "execution_count": 41,
   "id": "aa437d0c",
   "metadata": {},
   "outputs": [
    {
     "data": {
      "image/png": "[encoded data removed]",
      "text/plain": [
       "<Figure size 640x480 with 1 Axes>"
      ]
     },
     "metadata": {},
     "output_type": "display_data"
    }
   ],
   "source": [
    "plt.scatter(data=data4,x='time',y='airmiles')\n",
    "plt.show()"
   ]
  },
  {
   "cell_type": "code",
   "execution_count": 42,
   "id": "5653320e",
   "metadata": {},
   "outputs": [
    {
     "name": "stderr",
     "output_type": "stream",
     "text": [
      "C:\\ProgramData\\anaconda3\\lib\\site-packages\\IPython\\core\\interactiveshell.py:3460: RankWarning: Polyfit may be poorly conditioned\n",
      "  exec(code_obj, self.user_global_ns, self.user_ns)\n"
     ]
    }
   ],
   "source": [
    "mymodel=np.poly1d(np.polyfit(time,airmiles,2))"
   ]
  },
  {
   "cell_type": "code",
   "execution_count": null,
   "id": "74d3acea",
   "metadata": {},
   "outputs": [],
   "source": []
  }
 ],
 "metadata": {
  "kernelspec": {
   "display_name": "Python 3 (ipykernel)",
   "language": "python",
   "name": "python3"
  },
  "language_info": {
   "codemirror_mode": {
    "name": "ipython",
    "version": 3
   },
   "file_extension": ".py",
   "mimetype": "text/x-python",
   "name": "python",
   "nbconvert_exporter": "python",
   "pygments_lexer": "ipython3",
   "version": "3.10.9"
  }
 },
 "nbformat": 4,
 "nbformat_minor": 5
}
