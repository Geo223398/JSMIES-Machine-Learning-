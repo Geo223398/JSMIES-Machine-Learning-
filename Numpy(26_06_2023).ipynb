{
 "cells": [
  {
   "cell_type": "code",
   "execution_count": 1,
   "id": "ad70641d",
   "metadata": {},
   "outputs": [],
   "source": [
    "import numpy as np"
   ]
  },
  {
   "cell_type": "code",
   "execution_count": 2,
   "id": "d03abe3e",
   "metadata": {},
   "outputs": [],
   "source": [
    "np.set_printoptions(suppress=True)"
   ]
  },
  {
   "cell_type": "markdown",
   "id": "727de6ca",
   "metadata": {},
   "source": [
    "### 1-D array"
   ]
  },
  {
   "cell_type": "markdown",
   "id": "751fb4fa",
   "metadata": {},
   "source": [
    "#### Atributes of arrays"
   ]
  },
  {
   "cell_type": "markdown",
   "id": "88023484",
   "metadata": {},
   "source": [
    "dtype"
   ]
  },
  {
   "cell_type": "markdown",
   "id": "719a8a44",
   "metadata": {},
   "source": [
    "ndim"
   ]
  },
  {
   "cell_type": "markdown",
   "id": "9913da76",
   "metadata": {},
   "source": [
    "size"
   ]
  },
  {
   "cell_type": "markdown",
   "id": "5c4bde81",
   "metadata": {},
   "source": [
    "Shape"
   ]
  },
  {
   "cell_type": "code",
   "execution_count": 3,
   "id": "ab05b75f",
   "metadata": {},
   "outputs": [],
   "source": [
    "a= np.array([12,15,16,17])"
   ]
  },
  {
   "cell_type": "code",
   "execution_count": 4,
   "id": "e6145448",
   "metadata": {},
   "outputs": [
    {
     "data": {
      "text/plain": [
       "dtype('int32')"
      ]
     },
     "execution_count": 4,
     "metadata": {},
     "output_type": "execute_result"
    }
   ],
   "source": [
    "a.dtype"
   ]
  },
  {
   "cell_type": "code",
   "execution_count": 5,
   "id": "bf73ae37",
   "metadata": {},
   "outputs": [
    {
     "data": {
      "text/plain": [
       "(4,)"
      ]
     },
     "execution_count": 5,
     "metadata": {},
     "output_type": "execute_result"
    }
   ],
   "source": [
    "a.shape"
   ]
  },
  {
   "cell_type": "code",
   "execution_count": 6,
   "id": "c0a959da",
   "metadata": {},
   "outputs": [
    {
     "data": {
      "text/plain": [
       "1"
      ]
     },
     "execution_count": 6,
     "metadata": {},
     "output_type": "execute_result"
    }
   ],
   "source": [
    "a.ndim"
   ]
  },
  {
   "cell_type": "code",
   "execution_count": 7,
   "id": "081ec1ee",
   "metadata": {},
   "outputs": [
    {
     "data": {
      "text/plain": [
       "4"
      ]
     },
     "execution_count": 7,
     "metadata": {},
     "output_type": "execute_result"
    }
   ],
   "source": [
    "a.size"
   ]
  },
  {
   "cell_type": "code",
   "execution_count": 8,
   "id": "634b31c7",
   "metadata": {},
   "outputs": [
    {
     "data": {
      "text/plain": [
       "12"
      ]
     },
     "execution_count": 8,
     "metadata": {},
     "output_type": "execute_result"
    }
   ],
   "source": [
    "a[0]"
   ]
  },
  {
   "cell_type": "code",
   "execution_count": 9,
   "id": "7c7df4a0",
   "metadata": {},
   "outputs": [
    {
     "data": {
      "text/plain": [
       "17"
      ]
     },
     "execution_count": 9,
     "metadata": {},
     "output_type": "execute_result"
    }
   ],
   "source": [
    "a[-1]"
   ]
  },
  {
   "cell_type": "markdown",
   "id": "68694f9d",
   "metadata": {},
   "source": [
    "#### Multidimensional arrays"
   ]
  },
  {
   "cell_type": "code",
   "execution_count": 10,
   "id": "2686d1d7",
   "metadata": {},
   "outputs": [],
   "source": [
    "a_2d=np.array([\n",
    "              [18,15,19,20],\n",
    "              [20,22,33,40]\n",
    "              ])"
   ]
  },
  {
   "cell_type": "code",
   "execution_count": 11,
   "id": "5f35f6c1",
   "metadata": {},
   "outputs": [
    {
     "data": {
      "text/plain": [
       "8"
      ]
     },
     "execution_count": 11,
     "metadata": {},
     "output_type": "execute_result"
    }
   ],
   "source": [
    "a_2d.size"
   ]
  },
  {
   "cell_type": "code",
   "execution_count": 12,
   "id": "d6ee6d08",
   "metadata": {},
   "outputs": [
    {
     "data": {
      "text/plain": [
       "(2, 4)"
      ]
     },
     "execution_count": 12,
     "metadata": {},
     "output_type": "execute_result"
    }
   ],
   "source": [
    "a_2d.shape"
   ]
  },
  {
   "cell_type": "code",
   "execution_count": 13,
   "id": "1e9129ac",
   "metadata": {},
   "outputs": [
    {
     "data": {
      "text/plain": [
       "2"
      ]
     },
     "execution_count": 13,
     "metadata": {},
     "output_type": "execute_result"
    }
   ],
   "source": [
    "a_2d.ndim"
   ]
  },
  {
   "cell_type": "code",
   "execution_count": 14,
   "id": "1c259ba0",
   "metadata": {},
   "outputs": [
    {
     "data": {
      "text/plain": [
       "array([18, 15, 19, 20])"
      ]
     },
     "execution_count": 14,
     "metadata": {},
     "output_type": "execute_result"
    }
   ],
   "source": [
    "a_2d[0]"
   ]
  },
  {
   "cell_type": "code",
   "execution_count": 15,
   "id": "a40b0a07",
   "metadata": {},
   "outputs": [
    {
     "data": {
      "text/plain": [
       "40"
      ]
     },
     "execution_count": 15,
     "metadata": {},
     "output_type": "execute_result"
    }
   ],
   "source": [
    "a_2d[-1][3]"
   ]
  },
  {
   "cell_type": "code",
   "execution_count": 16,
   "id": "90a932ce",
   "metadata": {},
   "outputs": [
    {
     "data": {
      "text/plain": [
       "20"
      ]
     },
     "execution_count": 16,
     "metadata": {},
     "output_type": "execute_result"
    }
   ],
   "source": [
    "a_2d[-1][0]"
   ]
  },
  {
   "cell_type": "code",
   "execution_count": 17,
   "id": "d8fcff49",
   "metadata": {},
   "outputs": [
    {
     "data": {
      "text/plain": [
       "33"
      ]
     },
     "execution_count": 17,
     "metadata": {},
     "output_type": "execute_result"
    }
   ],
   "source": [
    "a_2d[-1][-2]"
   ]
  },
  {
   "cell_type": "markdown",
   "id": "539c9ae1",
   "metadata": {},
   "source": [
    "#### Another type of multidimensional arrays"
   ]
  },
  {
   "cell_type": "code",
   "execution_count": 18,
   "id": "70148515",
   "metadata": {},
   "outputs": [],
   "source": [
    "Another_array=np.array([[[10,15,18,20]]])"
   ]
  },
  {
   "cell_type": "code",
   "execution_count": 19,
   "id": "a9cf9600",
   "metadata": {},
   "outputs": [
    {
     "data": {
      "text/plain": [
       "dtype('int32')"
      ]
     },
     "execution_count": 19,
     "metadata": {},
     "output_type": "execute_result"
    }
   ],
   "source": [
    "Another_array.dtype"
   ]
  },
  {
   "cell_type": "code",
   "execution_count": 20,
   "id": "195a0706",
   "metadata": {},
   "outputs": [
    {
     "data": {
      "text/plain": [
       "(1, 1, 4)"
      ]
     },
     "execution_count": 20,
     "metadata": {},
     "output_type": "execute_result"
    }
   ],
   "source": [
    "Another_array.shape"
   ]
  },
  {
   "cell_type": "code",
   "execution_count": 21,
   "id": "53a19758",
   "metadata": {},
   "outputs": [
    {
     "data": {
      "text/plain": [
       "3"
      ]
     },
     "execution_count": 21,
     "metadata": {},
     "output_type": "execute_result"
    }
   ],
   "source": [
    "Another_array.ndim"
   ]
  },
  {
   "cell_type": "code",
   "execution_count": 22,
   "id": "fe45ae7f",
   "metadata": {},
   "outputs": [
    {
     "data": {
      "text/plain": [
       "18"
      ]
     },
     "execution_count": 22,
     "metadata": {},
     "output_type": "execute_result"
    }
   ],
   "source": [
    "Another_array[0][0][2]"
   ]
  },
  {
   "cell_type": "markdown",
   "id": "dad7ad25",
   "metadata": {},
   "source": [
    "#### Lets change its datatype into float"
   ]
  },
  {
   "cell_type": "code",
   "execution_count": 23,
   "id": "abaf163c",
   "metadata": {},
   "outputs": [],
   "source": [
    "a_2d=np.array([[15,14,13,12],[39,33,34,35]],dtype=float)"
   ]
  },
  {
   "cell_type": "code",
   "execution_count": 24,
   "id": "924609b3",
   "metadata": {},
   "outputs": [
    {
     "data": {
      "text/plain": [
       "array([[15., 14., 13., 12.],\n",
       "       [39., 33., 34., 35.]])"
      ]
     },
     "execution_count": 24,
     "metadata": {},
     "output_type": "execute_result"
    }
   ],
   "source": [
    "a_2d"
   ]
  },
  {
   "cell_type": "markdown",
   "id": "532a4d5f",
   "metadata": {},
   "source": [
    "#### Lets create a bigger one"
   ]
  },
  {
   "cell_type": "code",
   "execution_count": 25,
   "id": "01ea1ecc",
   "metadata": {},
   "outputs": [],
   "source": [
    "a_bigger=np.array([\n",
    "    [\n",
    "        [10,15,14,10],[30,35,34,33],[66,67,68,65]],\n",
    "    [\n",
    "        [33,34,35,36],[44,45,46,47],[77,78,79,76]],\n",
    "    [\n",
    "        [10,11,12,13],[21,22,23,24],[33,34,23,22]]\n",
    "         ])"
   ]
  },
  {
   "cell_type": "code",
   "execution_count": 47,
   "id": "a7cdf72c",
   "metadata": {},
   "outputs": [
    {
     "data": {
      "text/plain": [
       "78"
      ]
     },
     "execution_count": 47,
     "metadata": {},
     "output_type": "execute_result"
    }
   ],
   "source": [
    "a_bigger[1][2][1]"
   ]
  },
  {
   "cell_type": "code",
   "execution_count": 26,
   "id": "2e6712e4",
   "metadata": {},
   "outputs": [
    {
     "data": {
      "text/plain": [
       "dtype('int32')"
      ]
     },
     "execution_count": 26,
     "metadata": {},
     "output_type": "execute_result"
    }
   ],
   "source": [
    "a_bigger.dtype"
   ]
  },
  {
   "cell_type": "code",
   "execution_count": 27,
   "id": "e3cfaf3f",
   "metadata": {},
   "outputs": [
    {
     "data": {
      "text/plain": [
       "36"
      ]
     },
     "execution_count": 27,
     "metadata": {},
     "output_type": "execute_result"
    }
   ],
   "source": [
    "a_bigger.size"
   ]
  },
  {
   "cell_type": "code",
   "execution_count": 28,
   "id": "3046d3a9",
   "metadata": {},
   "outputs": [
    {
     "data": {
      "text/plain": [
       "3"
      ]
     },
     "execution_count": 28,
     "metadata": {},
     "output_type": "execute_result"
    }
   ],
   "source": [
    "a_bigger.ndim"
   ]
  },
  {
   "cell_type": "code",
   "execution_count": 29,
   "id": "8777a43e",
   "metadata": {},
   "outputs": [
    {
     "data": {
      "text/plain": [
       "10"
      ]
     },
     "execution_count": 29,
     "metadata": {},
     "output_type": "execute_result"
    }
   ],
   "source": [
    "a_bigger[0][0][3]"
   ]
  },
  {
   "cell_type": "markdown",
   "id": "c4e80b0d",
   "metadata": {},
   "source": [
    "#### Filling Arrays"
   ]
  },
  {
   "cell_type": "markdown",
   "id": "f1ecb0d6",
   "metadata": {},
   "source": [
    "#### np.full"
   ]
  },
  {
   "cell_type": "code",
   "execution_count": 30,
   "id": "b4728b6f",
   "metadata": {},
   "outputs": [],
   "source": [
    "a_full =np.full((3,5,4),\"ok\")"
   ]
  },
  {
   "cell_type": "code",
   "execution_count": 31,
   "id": "0d9f84ef",
   "metadata": {},
   "outputs": [
    {
     "data": {
      "text/plain": [
       "array([[['ok', 'ok', 'ok', 'ok'],\n",
       "        ['ok', 'ok', 'ok', 'ok'],\n",
       "        ['ok', 'ok', 'ok', 'ok'],\n",
       "        ['ok', 'ok', 'ok', 'ok'],\n",
       "        ['ok', 'ok', 'ok', 'ok']],\n",
       "\n",
       "       [['ok', 'ok', 'ok', 'ok'],\n",
       "        ['ok', 'ok', 'ok', 'ok'],\n",
       "        ['ok', 'ok', 'ok', 'ok'],\n",
       "        ['ok', 'ok', 'ok', 'ok'],\n",
       "        ['ok', 'ok', 'ok', 'ok']],\n",
       "\n",
       "       [['ok', 'ok', 'ok', 'ok'],\n",
       "        ['ok', 'ok', 'ok', 'ok'],\n",
       "        ['ok', 'ok', 'ok', 'ok'],\n",
       "        ['ok', 'ok', 'ok', 'ok'],\n",
       "        ['ok', 'ok', 'ok', 'ok']]], dtype='<U2')"
      ]
     },
     "execution_count": 31,
     "metadata": {},
     "output_type": "execute_result"
    }
   ],
   "source": [
    "a_full"
   ]
  },
  {
   "cell_type": "code",
   "execution_count": 32,
   "id": "29157603",
   "metadata": {},
   "outputs": [
    {
     "data": {
      "text/plain": [
       "dtype('<U2')"
      ]
     },
     "execution_count": 32,
     "metadata": {},
     "output_type": "execute_result"
    }
   ],
   "source": [
    "a_full.dtype"
   ]
  },
  {
   "cell_type": "code",
   "execution_count": 33,
   "id": "3c249bcb",
   "metadata": {},
   "outputs": [],
   "source": [
    "a_1=np.full((4,5,6),5)"
   ]
  },
  {
   "cell_type": "code",
   "execution_count": 34,
   "id": "5c750053",
   "metadata": {},
   "outputs": [
    {
     "data": {
      "text/plain": [
       "array([[[5, 5, 5, 5, 5, 5],\n",
       "        [5, 5, 5, 5, 5, 5],\n",
       "        [5, 5, 5, 5, 5, 5],\n",
       "        [5, 5, 5, 5, 5, 5],\n",
       "        [5, 5, 5, 5, 5, 5]],\n",
       "\n",
       "       [[5, 5, 5, 5, 5, 5],\n",
       "        [5, 5, 5, 5, 5, 5],\n",
       "        [5, 5, 5, 5, 5, 5],\n",
       "        [5, 5, 5, 5, 5, 5],\n",
       "        [5, 5, 5, 5, 5, 5]],\n",
       "\n",
       "       [[5, 5, 5, 5, 5, 5],\n",
       "        [5, 5, 5, 5, 5, 5],\n",
       "        [5, 5, 5, 5, 5, 5],\n",
       "        [5, 5, 5, 5, 5, 5],\n",
       "        [5, 5, 5, 5, 5, 5]],\n",
       "\n",
       "       [[5, 5, 5, 5, 5, 5],\n",
       "        [5, 5, 5, 5, 5, 5],\n",
       "        [5, 5, 5, 5, 5, 5],\n",
       "        [5, 5, 5, 5, 5, 5],\n",
       "        [5, 5, 5, 5, 5, 5]]])"
      ]
     },
     "execution_count": 34,
     "metadata": {},
     "output_type": "execute_result"
    }
   ],
   "source": [
    "a_1"
   ]
  },
  {
   "cell_type": "code",
   "execution_count": 35,
   "id": "77698e5b",
   "metadata": {},
   "outputs": [
    {
     "data": {
      "text/plain": [
       "(4, 5, 6)"
      ]
     },
     "execution_count": 35,
     "metadata": {},
     "output_type": "execute_result"
    }
   ],
   "source": [
    "a_1.shape"
   ]
  },
  {
   "cell_type": "code",
   "execution_count": 36,
   "id": "77f876ce",
   "metadata": {},
   "outputs": [
    {
     "data": {
      "text/plain": [
       "3"
      ]
     },
     "execution_count": 36,
     "metadata": {},
     "output_type": "execute_result"
    }
   ],
   "source": [
    "a_1.ndim"
   ]
  },
  {
   "cell_type": "markdown",
   "id": "a0248dd3",
   "metadata": {},
   "source": [
    "#### Zeros and Ones"
   ]
  },
  {
   "cell_type": "code",
   "execution_count": 37,
   "id": "f7d6cad9",
   "metadata": {},
   "outputs": [],
   "source": [
    "a_zeros = np.zeros((3,3))"
   ]
  },
  {
   "cell_type": "code",
   "execution_count": 38,
   "id": "78a268f6",
   "metadata": {},
   "outputs": [
    {
     "data": {
      "text/plain": [
       "array([[0., 0., 0.],\n",
       "       [0., 0., 0.],\n",
       "       [0., 0., 0.]])"
      ]
     },
     "execution_count": 38,
     "metadata": {},
     "output_type": "execute_result"
    }
   ],
   "source": [
    "a_zeros"
   ]
  },
  {
   "cell_type": "code",
   "execution_count": 39,
   "id": "7cd20748",
   "metadata": {},
   "outputs": [
    {
     "data": {
      "text/plain": [
       "array([[[1., 1., 1.],\n",
       "        [1., 1., 1.],\n",
       "        [1., 1., 1.],\n",
       "        [1., 1., 1.]],\n",
       "\n",
       "       [[1., 1., 1.],\n",
       "        [1., 1., 1.],\n",
       "        [1., 1., 1.],\n",
       "        [1., 1., 1.]],\n",
       "\n",
       "       [[1., 1., 1.],\n",
       "        [1., 1., 1.],\n",
       "        [1., 1., 1.],\n",
       "        [1., 1., 1.]]])"
      ]
     },
     "execution_count": 39,
     "metadata": {},
     "output_type": "execute_result"
    }
   ],
   "source": [
    "b_one =np.ones((3,4,3))\n",
    "b_one"
   ]
  },
  {
   "cell_type": "markdown",
   "id": "0513f531",
   "metadata": {},
   "source": [
    "#### Empyy an d random"
   ]
  },
  {
   "cell_type": "code",
   "execution_count": 40,
   "id": "921a625d",
   "metadata": {},
   "outputs": [
    {
     "data": {
      "text/plain": [
       "array([[0., 0., 0., 0.],\n",
       "       [0., 0., 0., 0.],\n",
       "       [0., 0., 0., 0.],\n",
       "       [0., 0., 0., 0.]])"
      ]
     },
     "execution_count": 40,
     "metadata": {},
     "output_type": "execute_result"
    }
   ],
   "source": [
    "e=np.empty((4,4))\n",
    "e"
   ]
  },
  {
   "cell_type": "code",
   "execution_count": 41,
   "id": "3d25c1e4",
   "metadata": {},
   "outputs": [
    {
     "data": {
      "text/plain": [
       "array([[0.00000000e+000, 6.95309185e-310, 4.07110092e-321,\n",
       "                    nan, 1.12646967e-321, 0.00000000e+000,\n",
       "        3.77704695e+233, 7.22756687e+159, 1.10639950e+200,\n",
       "        3.64726544e+180, 1.87750993e-152],\n",
       "       [4.82336277e+228, 9.23528171e+242, 2.52960802e-258,\n",
       "        4.47593816e-091, 1.76353931e-070, 8.63819469e-096,\n",
       "        7.12930810e+159, 2.61191759e+209, 2.25020976e+223,\n",
       "        1.67640691e+243, 1.24595996e-089],\n",
       "       [1.74593501e+238, 1.13556093e-153, 1.96088695e+243,\n",
       "        9.82391603e+252, 3.62479391e+228, 1.32655511e-258,\n",
       "        7.22082943e+159, 6.03433819e-154, 2.35570319e+251,\n",
       "        4.77800043e+180, 5.80426330e+180],\n",
       "       [2.19980343e-152, 1.12038868e+219, 2.31881454e-152,\n",
       "        6.01346953e-154, 5.82147482e+180, 6.12486739e+257,\n",
       "        4.47593784e-091, 1.45291304e-094, 1.62596915e-086,\n",
       "        1.43615024e+161, 6.01334682e-154],\n",
       "       [2.59345433e+161, 6.72801012e+199, 9.13601355e+242,\n",
       "        1.48504071e+161, 1.45913393e-152, 1.12044105e+219,\n",
       "        2.63422477e-085, 3.88281160e+233, 1.27966001e-152,\n",
       "        1.21696632e-152, 6.11248962e+228],\n",
       "       [1.05894212e-153, 1.38083749e+267, 2.34953944e+251,\n",
       "        5.51999516e+228, 1.99416198e+174, 9.08366784e+223,\n",
       "        4.70102456e+180, 1.23542248e-259, 9.87762528e+247,\n",
       "        4.47593816e-091, 1.50598685e+161],\n",
       "       [7.10573726e+159, 3.05850365e-061, 3.64913061e+233,\n",
       "        4.47593784e-091, 7.04134414e-009, 3.68977620e+180,\n",
       "        2.96460967e-062, 2.59345414e+161, 5.55994223e+141,\n",
       "        4.29058029e+270, 9.16526748e+242],\n",
       "       [1.30405433e-076, 3.74168656e+233, 8.88055929e+252,\n",
       "        2.87354825e+159, 9.45007090e-076, 2.99937163e-067,\n",
       "        7.04134408e-009, 3.68977620e+180, 6.44291993e+270,\n",
       "        2.45127931e+198, 5.56206121e+180],\n",
       "       [3.74168656e+233, 8.88055929e+252, 8.96826949e+130,\n",
       "        8.96864212e+130, 1.95360827e-109, 1.03063392e-113,\n",
       "        1.05019333e-153, 1.20480715e+132, 5.93746659e-096,\n",
       "        1.35717430e+131, 1.95360827e-109],\n",
       "       [7.50052033e+247, 6.98907523e+096, 4.45197005e+252,\n",
       "        7.22762050e+159, 2.34726925e+251, 2.34953949e+251,\n",
       "        2.86530727e+161, 3.17095856e+180, 1.05982012e-153,\n",
       "        1.23876255e-259, 0.00000000e+000]])"
      ]
     },
     "execution_count": 41,
     "metadata": {},
     "output_type": "execute_result"
    }
   ],
   "source": [
    "e1=np.empty((10,11))\n",
    "e1"
   ]
  },
  {
   "cell_type": "code",
   "execution_count": 44,
   "id": "8714c252",
   "metadata": {},
   "outputs": [
    {
     "data": {
      "text/plain": [
       "array([[0.88822315, 0.83022185],\n",
       "       [0.34595861, 0.84104338]])"
      ]
     },
     "execution_count": 44,
     "metadata": {},
     "output_type": "execute_result"
    }
   ],
   "source": [
    "e1_random=np.random.random((2,2))\n",
    "e1_random"
   ]
  },
  {
   "cell_type": "code",
   "execution_count": 45,
   "id": "7d9c4358",
   "metadata": {},
   "outputs": [
    {
     "data": {
      "text/plain": [
       "2"
      ]
     },
     "execution_count": 45,
     "metadata": {},
     "output_type": "execute_result"
    }
   ],
   "source": [
    "e1_random.ndim"
   ]
  },
  {
   "cell_type": "code",
   "execution_count": 46,
   "id": "0661c3ae",
   "metadata": {},
   "outputs": [
    {
     "data": {
      "text/plain": [
       "4"
      ]
     },
     "execution_count": 46,
     "metadata": {},
     "output_type": "execute_result"
    }
   ],
   "source": [
    "e1_random.size"
   ]
  },
  {
   "cell_type": "markdown",
   "id": "9f6db24c",
   "metadata": {},
   "source": [
    "#### Ranges"
   ]
  },
  {
   "cell_type": "markdown",
   "id": "78137b3f",
   "metadata": {},
   "source": [
    "#### Arange"
   ]
  },
  {
   "cell_type": "markdown",
   "id": "1a051c30",
   "metadata": {},
   "source": [
    "#### arguments are : strart-stop-step"
   ]
  },
  {
   "cell_type": "code",
   "execution_count": 48,
   "id": "d4f100b7",
   "metadata": {},
   "outputs": [],
   "source": [
    "a_arange = np.arange(10,50,5)"
   ]
  },
  {
   "cell_type": "code",
   "execution_count": 49,
   "id": "0d822310",
   "metadata": {},
   "outputs": [
    {
     "data": {
      "text/plain": [
       "array([10, 15, 20, 25, 30, 35, 40, 45])"
      ]
     },
     "execution_count": 49,
     "metadata": {},
     "output_type": "execute_result"
    }
   ],
   "source": [
    "a_arange"
   ]
  },
  {
   "cell_type": "code",
   "execution_count": 55,
   "id": "88963cff",
   "metadata": {},
   "outputs": [
    {
     "data": {
      "text/plain": [
       "array([ 0,  5, 10, 15])"
      ]
     },
     "execution_count": 55,
     "metadata": {},
     "output_type": "execute_result"
    }
   ],
   "source": [
    "a_arange1=np.arange(0,20,5)\n",
    "a_arange1"
   ]
  },
  {
   "cell_type": "code",
   "execution_count": 56,
   "id": "b0d6dddc",
   "metadata": {},
   "outputs": [
    {
     "data": {
      "text/plain": [
       "array([ 1, 10, 19, 28, 37, 46, 55, 64, 73, 82])"
      ]
     },
     "execution_count": 56,
     "metadata": {},
     "output_type": "execute_result"
    }
   ],
   "source": [
    "a_arrage1=np.arange(1,91,9)\n",
    "a_arrage1"
   ]
  },
  {
   "cell_type": "markdown",
   "id": "43ec9729",
   "metadata": {},
   "source": [
    "### linspace"
   ]
  },
  {
   "cell_type": "code",
   "execution_count": 58,
   "id": "8d040f06",
   "metadata": {},
   "outputs": [
    {
     "data": {
      "text/plain": [
       "array([ 0. , 12.5, 25. , 37.5, 50. ])"
      ]
     },
     "execution_count": 58,
     "metadata": {},
     "output_type": "execute_result"
    }
   ],
   "source": [
    "b_linspace =np.linspace(0,50,5)\n",
    "b_linspace"
   ]
  },
  {
   "cell_type": "code",
   "execution_count": 59,
   "id": "9a0f438d",
   "metadata": {},
   "outputs": [
    {
     "data": {
      "text/plain": [
       "1"
      ]
     },
     "execution_count": 59,
     "metadata": {},
     "output_type": "execute_result"
    }
   ],
   "source": [
    "b_linspace.ndim"
   ]
  },
  {
   "cell_type": "code",
   "execution_count": 60,
   "id": "d8d67a99",
   "metadata": {},
   "outputs": [
    {
     "data": {
      "text/plain": [
       "5"
      ]
     },
     "execution_count": 60,
     "metadata": {},
     "output_type": "execute_result"
    }
   ],
   "source": [
    "b_linspace.size"
   ]
  },
  {
   "cell_type": "code",
   "execution_count": 61,
   "id": "1f159a1f",
   "metadata": {},
   "outputs": [
    {
     "data": {
      "text/plain": [
       "dtype('float64')"
      ]
     },
     "execution_count": 61,
     "metadata": {},
     "output_type": "execute_result"
    }
   ],
   "source": [
    "b_linspace.dtype"
   ]
  },
  {
   "cell_type": "code",
   "execution_count": 64,
   "id": "29f6b032",
   "metadata": {},
   "outputs": [],
   "source": [
    "v=np.linspace(1,10,4,dtype=int)"
   ]
  },
  {
   "cell_type": "code",
   "execution_count": 65,
   "id": "8d853e49",
   "metadata": {},
   "outputs": [
    {
     "data": {
      "text/plain": [
       "array([ 1,  4,  7, 10])"
      ]
     },
     "execution_count": 65,
     "metadata": {},
     "output_type": "execute_result"
    }
   ],
   "source": [
    "v"
   ]
  }
 ],
 "metadata": {
  "kernelspec": {
   "display_name": "Python 3 (ipykernel)",
   "language": "python",
   "name": "python3"
  },
  "language_info": {
   "codemirror_mode": {
    "name": "ipython",
    "version": 3
   },
   "file_extension": ".py",
   "mimetype": "text/x-python",
   "name": "python",
   "nbconvert_exporter": "python",
   "pygments_lexer": "ipython3",
   "version": "3.10.9"
  }
 },
 "nbformat": 4,
 "nbformat_minor": 5
}
